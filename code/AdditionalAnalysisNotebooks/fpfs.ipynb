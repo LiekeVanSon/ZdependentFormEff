{
 "cells": [
  {
   "cell_type": "code",
   "execution_count": 1,
   "id": "cc222b6c-400b-48bc-9fdf-e42b50f8bafb",
   "metadata": {},
   "outputs": [],
   "source": [
    "import numpy as np"
   ]
  },
  {
   "cell_type": "code",
   "execution_count": 2,
   "id": "a5923ec6-cf46-44f3-873d-7e59485e0f87",
   "metadata": {},
   "outputs": [
    {
     "data": {
      "text/plain": [
       "array([0.0683564 , 3.0075303 , 1.12483756, 0.58819912])"
      ]
     },
     "execution_count": 2,
     "metadata": {},
     "output_type": "execute_result"
    }
   ],
   "source": [
    "def comp(alpha, u, l):\n",
    "    return (u**(-alpha+1)-l**(-alpha+1))/(-alpha+1)\n",
    "\n",
    "c_array = np.array([comp(0.3, 0.08, 0.05), comp(1.3, 0.5, 0.08), comp(2.3, 1.0, 0.5), comp(2.7, 300.0, 1.0)])\n",
    "c_array"
   ]
  },
  {
   "cell_type": "code",
   "execution_count": 3,
   "id": "4aa4cb19-4b51-42d7-8915-188d56f0a0f7",
   "metadata": {},
   "outputs": [
    {
     "data": {
      "text/plain": [
       "0.20881520176143864"
      ]
     },
     "execution_count": 3,
     "metadata": {},
     "output_type": "execute_result"
    }
   ],
   "source": [
    "c = (np.sum(c_array))**(-1)\n",
    "c"
   ]
  },
  {
   "cell_type": "markdown",
   "id": "cbe94cf5-6840-490c-b3e9-e30d55e8dc51",
   "metadata": {},
   "source": [
    "# BHBH"
   ]
  },
  {
   "cell_type": "markdown",
   "id": "102ce496-55b7-43c1-a2a2-4b0a7a9c26a1",
   "metadata": {},
   "source": [
    "### $f_{primary}$ and $f_{secondary}$ are not independent"
   ]
  },
  {
   "cell_type": "code",
   "execution_count": 4,
   "id": "52e260e9-6655-443e-b3a6-e2ab43423fb1",
   "metadata": {},
   "outputs": [
    {
     "name": "stdout",
     "output_type": "stream",
     "text": [
      "2.43E-04\n"
     ]
    }
   ],
   "source": [
    "print(format(280*c/(-3.7)*(300**(-3.7)-20**(-3.7)), '.2E'))"
   ]
  },
  {
   "cell_type": "markdown",
   "id": "f9f41d13-5983-4116-a413-9fb66c01a6eb",
   "metadata": {},
   "source": [
    "### $f_{primary}$ and $f_{secondary}$ are independent"
   ]
  },
  {
   "cell_type": "code",
   "execution_count": 5,
   "id": "19bda0d8-6ff6-448b-9f68-0d39a1d2baa9",
   "metadata": {},
   "outputs": [
    {
     "name": "stdout",
     "output_type": "stream",
     "text": [
      "3.73E-04\n"
     ]
    }
   ],
   "source": [
    "print(format(c/(-1.7)*(300**(-1.7)-20**(-1.7))*0.5, '.2E'))"
   ]
  },
  {
   "cell_type": "code",
   "execution_count": 6,
   "id": "10bd77ab-b3d3-48a9-bae7-feb143c069e2",
   "metadata": {},
   "outputs": [
    {
     "data": {
      "text/plain": [
       "1.5349794238683125"
      ]
     },
     "execution_count": 6,
     "metadata": {},
     "output_type": "execute_result"
    }
   ],
   "source": [
    "3.73/2.43"
   ]
  },
  {
   "cell_type": "markdown",
   "id": "e390a59e-a8e2-4e76-bbdb-7ab921de097d",
   "metadata": {},
   "source": [
    "# NSNS"
   ]
  },
  {
   "cell_type": "code",
   "execution_count": 7,
   "id": "29ac393e-8ba8-4a86-b66b-d447583f460e",
   "metadata": {},
   "outputs": [
    {
     "name": "stdout",
     "output_type": "stream",
     "text": [
      "4.47E-04\n"
     ]
    }
   ],
   "source": [
    "print(format(18*c/(-3.7)*(20**(-3.7)-8**(-3.7)), '.2E'))"
   ]
  },
  {
   "cell_type": "markdown",
   "id": "8b99ba92-9eee-4217-a6df-eb754e4c7e1f",
   "metadata": {},
   "source": [
    "# BHNS"
   ]
  },
  {
   "cell_type": "code",
   "execution_count": 8,
   "id": "cab8eea3-8d92-43c3-ae21-e94f13854da1",
   "metadata": {},
   "outputs": [
    {
     "name": "stdout",
     "output_type": "stream",
     "text": [
      "1.56E-05\n"
     ]
    }
   ],
   "source": [
    "print(format(18*c/(-3.7)*(300**(-3.7)-20**(-3.7)), '.2E'))"
   ]
  },
  {
   "cell_type": "code",
   "execution_count": null,
   "id": "bdeea787-62be-46b3-abb7-746e8f9bfcdf",
   "metadata": {},
   "outputs": [],
   "source": []
  }
 ],
 "metadata": {
  "kernelspec": {
   "display_name": "popcosmo",
   "language": "python",
   "name": "popcosmo"
  },
  "language_info": {
   "codemirror_mode": {
    "name": "ipython",
    "version": 3
   },
   "file_extension": ".py",
   "mimetype": "text/x-python",
   "name": "python",
   "nbconvert_exporter": "python",
   "pygments_lexer": "ipython3",
   "version": "3.10.14"
  }
 },
 "nbformat": 4,
 "nbformat_minor": 5
}
