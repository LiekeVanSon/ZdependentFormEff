{
 "cells": [
  {
   "cell_type": "markdown",
   "metadata": {},
   "source": [
    "# Write a grid file\n",
    "\n",
    "Either from scratch given a certain number of binaries, or based off the output from an already existing grid"
   ]
  },
  {
   "cell_type": "code",
   "execution_count": 22,
   "metadata": {},
   "outputs": [],
   "source": [
    "import numpy as np\n",
    "import random\n",
    "import math\n",
    "import os \n",
    "import pandas as pd\n",
    "from astropy.table import Table\n",
    "import h5py as h5\n",
    "\n",
    "N_binaries          = int(1e6)\n",
    "home_dir            = os.path.expanduser(\"~\") \n",
    "bse_grid_loc        = home_dir + \"/Winds2/code/run_data/\" #\"/Winds2/code/GridSubmitCOMPAS/masterfolder/\"\n",
    "bse_grid_filename   = 'BSE_grid_mass_sep_kick.txt'\n"
   ]
  },
  {
   "cell_type": "code",
   "execution_count": 19,
   "metadata": {},
   "outputs": [],
   "source": [
    "# Draw values from a power law (using inverse transform sampling method)\n",
    "def draw_power_law(N = 10, gamma = -2.3, m_min = 1, m_max = 150):\n",
    "    # For gamma = 0, its just a uniform dist\n",
    "    if gamma == 0:\n",
    "        return np.random.uniform(m_min, m_max, N)\n",
    "    \n",
    "    # For 1/x the integral (CDF) is ln(x)\n",
    "    elif gamma == -1:\n",
    "        y = np.random.uniform(0, 1, N)# will be used to draw from the inverse CDF\n",
    "        return np.exp(y * (np.log(m_max) - np.log(m_min)) + np.log(m_min))\n",
    "    \n",
    "    # For the general powerlaw case\n",
    "    else:\n",
    "        y = np.random.uniform(0, 1, N)\n",
    "        return ((m_max**(gamma+1) - m_min**(gamma+1))*y + m_min**(gamma+1))**(1/(gamma+1))"
   ]
  },
  {
   "cell_type": "markdown",
   "metadata": {},
   "source": [
    "# Draw primary masses \n",
    "### between 5 and 150 Msun from a Kroupa IMF\n",
    "Actually I am just going to draw stuff above 5Msun so, essentially a saltpeter, or just a powerlaw"
   ]
  },
  {
   "cell_type": "code",
   "execution_count": 16,
   "metadata": {},
   "outputs": [
    {
     "name": "stdout",
     "output_type": "stream",
     "text": [
      "[ 6.33962237  5.50299702  9.75787329 ...  9.3611681   5.36003545\n",
      " 23.01928173]\n"
     ]
    }
   ],
   "source": [
    "# Since I'm only drawing stuff above 5 Msun, I wont really care and just assume essentially a saltpeter IMF\n",
    "M_primary = draw_power_law(N = N_binaries, gamma = -2.3, m_min = 5, m_max = 150)\n",
    "print(M_primary)"
   ]
  },
  {
   "cell_type": "markdown",
   "metadata": {},
   "source": [
    "# Draw secondary masses\n",
    "\n",
    "## by drawing q = M2/M1 from a flat distribution between [0.01 - 1] Msun"
   ]
  },
  {
   "cell_type": "code",
   "execution_count": 17,
   "metadata": {},
   "outputs": [
    {
     "name": "stdout",
     "output_type": "stream",
     "text": [
      "M_secondary [ 4.664862    1.35255271  7.95282971 ...  3.8574218   0.94806464\n",
      " 21.78839725]\n"
     ]
    }
   ],
   "source": [
    "# Draw N_binaries in q from a flat distribution\n",
    "Q = np.random.uniform(0.01, 1, N_binaries) # will be used to draw from the inverse CDF\n",
    "\n",
    "# get M_secondary values \n",
    "M_secondary = M_primary*Q\n",
    "print('M_secondary', M_secondary) # is in Msun\n",
    "\n",
    "# Check that none of the M2 are smaller than --minimum-secondary-mass = 0.1 (default)\n",
    "# Assume M_primary is already defined\n",
    "while np.any(M_secondary < 0.1):\n",
    "    mask = M_secondary < 0.1\n",
    "    Q[mask] = np.random.uniform(low=0.1/M_primary[mask], high=1, size=np.sum(mask))\n",
    "    M_secondary[mask] = Q[mask] * M_primary[mask]\n",
    "\n",
    "\n"
   ]
  },
  {
   "cell_type": "markdown",
   "metadata": {},
   "source": [
    "# Draw initial semi major axis\n",
    "\n",
    "### From a flat-in-log distribution between 0.01 - 1000 AU\n",
    "\n",
    "$$\n",
    "p(a_i) = \\frac{1}{a_i}\n",
    "$$"
   ]
  },
  {
   "cell_type": "code",
   "execution_count": 21,
   "metadata": {},
   "outputs": [
    {
     "name": "stdout",
     "output_type": "stream",
     "text": [
      "SMA_init [1.91433634e+01 2.69965957e+02 1.29305243e-02 ... 2.73336797e+02\n",
      " 5.88040154e+01 3.21011975e+00]\n"
     ]
    }
   ],
   "source": [
    "SMA_init = draw_power_law(N = N_binaries, gamma = -1, m_min = 0.01, m_max = 1000)\n",
    "print('SMA_init', SMA_init)\n"
   ]
  },
  {
   "cell_type": "markdown",
   "metadata": {},
   "source": [
    "# Drawing Kicks\n",
    "\n",
    "We need to draw kick magnitudes and orientations\n",
    "\n",
    "### kick magnitudes:\n",
    "By default, COMPAS assumes for BHs that kick magnitudes are drawn from a maxwellian (e.g., Hobbs et al., 2005),  with a sigma = 265.0 km/s\n",
    "_However_  we don't actually need to draw this ourselves! the parameters **--kick-magnitude-random-1**, and     **--kick-magnitude-random-2**, will cause a unique draw from this magnitude distribution for you!\n",
    "Default = Random number drawn uniformly from [0.0, 1.0)\n",
    "\n",
    "### Kick orientations:\n",
    "By default, COMPAS draws natal kick directions from an ISOTROPIC distribution. \n",
    "i.e.,\n",
    "\n",
    "**--kick-direction ISOTROPIC** \n",
    "\n",
    "This means that we want to set \n",
    "1. **--kick-theta-1:**   angle between the orbital plane and the 'z' axis of the supernova vector for the primary star should it undergo a supernova event [radians]\n",
    "    \n",
    "    Generate cos(θ) (cosine of θ) randomly from a uniform distribution between -1 and 1.\n",
    "    Calculate θ (theta) using θ = arccos(cos(θ)), where arccos is the inverse cosine function.\n",
    "\n",
    "    \n",
    "2. **--kick-phi-1:**   angle between 'x' and 'y', both in the orbital plane of the supernova vector, for the primary star should it undergo a supernova event [radians]\n",
    "\n",
    "    Generate phi randomly from a uniform distribution between 0 and 2π.\n",
    "        \n",
    "3. **--kick-mean-anomaly-1:**  The mean anomaly at the instant of the supernova for the primary star of a binary system when evolving in BSE mode, should it undergo a supernova event. \n",
    "    Default = Random number drawn uniformly from [0.0, 2pi)\n",
    "        \n",
    "\n"
   ]
  },
  {
   "cell_type": "code",
   "execution_count": 24,
   "metadata": {},
   "outputs": [],
   "source": [
    "# Kick magnitude numbers\n",
    "Kick_magnitude_random1 = np.random.uniform(0.0, 1, N_binaries) \n",
    "Kick_magnitude_random2 = np.random.uniform(0.0, 1, N_binaries) \n",
    "\n",
    "# Calculate theta using theta = arccos(cos(theta))\n",
    "theta1 = np.arccos(np.random.uniform(-1.0, 1.0, N_binaries))\n",
    "theta2 = np.arccos(np.random.uniform(-1.0, 1.0, N_binaries))\n",
    "\n",
    "# kick phi Generate random number between 0 and 2 pi\n",
    "phi1 = np.random.uniform(0.0, 2 * np.pi, N_binaries)\n",
    "phi2 = np.random.uniform(0.0, 2 * np.pi, N_binaries)\n",
    "\n",
    "# Mean anomaly: Generate N_binaries random numbers between 0 and 2 pi\n",
    "mean_anomaly1 = np.random.uniform(0.0, 2 * np.pi, N_binaries)\n",
    "mean_anomaly2 = np.random.uniform(0.0, 2 * np.pi, N_binaries)\n"
   ]
  },
  {
   "cell_type": "markdown",
   "metadata": {},
   "source": [
    "# Write this to a grid file"
   ]
  },
  {
   "cell_type": "code",
   "execution_count": 25,
   "metadata": {},
   "outputs": [],
   "source": [
    "keys = ['--random-seed', '--initial-mass-1', '--initial-mass-2', '--semi-major-axis',\n",
    "        '--kick-magnitude-random-1', '--kick-phi-1', '--kick-theta-1', '--kick-mean-anomaly-1',\n",
    "        '--kick-magnitude-random-2', '--kick-phi-2', '--kick-theta-2', '--kick-mean-anomaly-2']\n",
    "\n",
    "# Open a file to write the data to\n",
    "with open(bse_grid_loc + bse_grid_filename, 'w') as f:\n",
    "    for i in range(N_binaries):\n",
    "        values = [str(i), M_primary[i], M_secondary[i], SMA_init[i],\n",
    "                  Kick_magnitude_random1[i], phi1[i], theta1[i], mean_anomaly1[i],\n",
    "                  Kick_magnitude_random2[i], phi2[i], theta2[i], mean_anomaly2[i]]\n",
    "\n",
    "        flags = ' '.join(f'{key} {value}' for key, value in zip(keys, values))\n",
    "\n",
    "        # Write the flags to the file, each set of flags on a new line\n",
    "        f.write(flags + '\\n')\n",
    "            "
   ]
  },
  {
   "cell_type": "code",
   "execution_count": null,
   "metadata": {},
   "outputs": [],
   "source": []
  },
  {
   "cell_type": "code",
   "execution_count": null,
   "metadata": {},
   "outputs": [],
   "source": []
  },
  {
   "cell_type": "code",
   "execution_count": 32,
   "metadata": {},
   "outputs": [],
   "source": [
    "# Next we will write these kick magnitudes to BSE_grid_mass_sep_kick\n",
    "\n",
    "# Read the kick magnitudes from the text file\n",
    "kick_magnitudes = pd.read_csv(bse_grid_loc + 'kick_magnitudes.txt', sep='\\t')\n",
    "\n",
    "# Open the BSE_grid file\n",
    "with open(bse_grid_loc+'BSE_grid_mass_sep_kick.txt', 'r') as file:\n",
    "    lines = file.readlines()\n",
    "\n",
    "\n",
    "# Iterate over the lines\n",
    "for i, line in enumerate(lines):\n",
    "    words = line.split()\n",
    "    words[8] = \"--kick-magnitude-1\"\n",
    "    words[9] = str(kick_magnitudes['Drawn_Kick_Magnitudes_1'][i])\n",
    "    words[16] = \"--kick-magnitude-2\"\n",
    "    words[17] = str(kick_magnitudes['Drawn_Kick_Magnitudes_2'][i])\n",
    "    lines[i] = ' '.join(words) + '\\n'\n",
    "\n",
    "\n",
    "# Write the modified lines back to a new file\n",
    "with open(bse_grid_loc+'BSE_grid_mass_sep_kick_copy.txt', 'w') as file:\n",
    "    file.writelines(lines)\n"
   ]
  },
  {
   "cell_type": "code",
   "execution_count": null,
   "metadata": {},
   "outputs": [],
   "source": []
  },
  {
   "cell_type": "code",
   "execution_count": null,
   "metadata": {},
   "outputs": [],
   "source": []
  },
  {
   "cell_type": "code",
   "execution_count": null,
   "metadata": {},
   "outputs": [],
   "source": []
  },
  {
   "cell_type": "code",
   "execution_count": null,
   "metadata": {},
   "outputs": [],
   "source": []
  },
  {
   "cell_type": "code",
   "execution_count": null,
   "metadata": {},
   "outputs": [],
   "source": []
  },
  {
   "cell_type": "code",
   "execution_count": null,
   "metadata": {},
   "outputs": [],
   "source": []
  },
  {
   "cell_type": "markdown",
   "metadata": {},
   "source": [
    "***\n",
    "\n",
    "# Other techniques\n",
    "\n",
    "***\n",
    "# Grid file containing only metallicities\n",
    "\n",
    "For your fiducial run, you just want to run COMPAS with fiducial flags, but drawing metallicities that are distributed uniformly in log\n"
   ]
  },
  {
   "cell_type": "code",
   "execution_count": 33,
   "metadata": {},
   "outputs": [],
   "source": [
    "#################################################################\n",
    "## \n",
    "##   Write a grid file to use\n",
    "##\n",
    "#################################################################\n",
    "def write_grid_file(N = 10, grid_file_name = 'BSE_grid.txt' ):\n",
    "    \"\"\"\n",
    "    N is number of lines\n",
    "    \"\"\"\n",
    "\n",
    "    # Define the minimum and maximum values for Z\n",
    "    Z_min = 1e-4\n",
    "    Z_max = 0.03\n",
    "\n",
    "    # Set a random seed for reproducibility\n",
    "    random.seed(42)\n",
    "\n",
    "    # Open the output file for writing\n",
    "    with open(grid_file_name, 'w') as f:\n",
    "        # Write each Z value to a separate line in the file, with a random seed integer\n",
    "        for i in range(N):\n",
    "            Z = 10 ** random.uniform(math.log10(Z_min), math.log10(Z_max))\n",
    "            f.write('--random-seed {} --metallicity {}\\n'.format(i, Z))\n",
    "\n",
    "\n",
    "write_grid_file(N = N_binaries, grid_file_name = './masterfolder/BSE_grid.txt' )"
   ]
  },
  {
   "cell_type": "markdown",
   "metadata": {},
   "source": [
    "# Write a grid file based on the system params of an existing simulation\n",
    "\n",
    "By reading the 'BSE_System_Parameters', make a grid file to run with compas \n",
    "at least containing the parameters as set in Grid_dict \n",
    "\n",
    "The grid will be quite large (~1 Gb for 10^6 binaries) so this takes about a minute\n"
   ]
  },
  {
   "cell_type": "code",
   "execution_count": 40,
   "metadata": {},
   "outputs": [],
   "source": [
    "\n",
    "# Define the path to the HDF5 file\n",
    "root_out_dir = \"/n/holystore01/LABS/hernquist_lab/Users/lvanson/CompasOutput/v02.35.02/FiducialN1e6/\"\n",
    "filename     = \"MainRun/COMPAS_Output.h5\"\n",
    "filepath     = root_out_dir + filename\n",
    "\n",
    "## WARNING ##\n",
    "\"\"\"\n",
    "BSE_System_Parameters will only contain all the kick information if the simulation was run \n",
    "using a grid, and with the flag --add-options-to-sysparms = 'GRID'\n",
    "\"\"\"\n",
    "# Define the dictionary of keys and command line arguments\n",
    "Grid_dict = {'SEED':'--random-seed', 'Mass@ZAMS(1)': '--initial-mass-1', 'Mass@ZAMS(2)':'--initial-mass-2',\n",
    "             'SemiMajorAxis@ZAMS':'--semi-major-axis','Metallicity@ZAMS(1)':'--metallicity',\\\n",
    "             'Kick_Magnitude_Random(1)':'--kick-magnitude-random-1', 'Kick_Phi(1)':'--kick-phi-1','Kick_Theta(1)':'--kick-theta-1', 'Kick_Mean_Anomaly(1)':'--kick-mean-anomaly-1',\\\n",
    "             'Kick_Magnitude_Random(2)':'--kick-magnitude-random-2', 'Kick_Phi(1)':'--kick-phi-2','Kick_Theta(2)':'--kick-theta-2', 'Kick_Mean_Anomaly(2)':'--kick-mean-anomaly-2'}\n",
    "             \n",
    "# Open the HDF5 file in read mode\n",
    "with h5py.File(filepath, 'r') as data:\n",
    "\n",
    "    # Get the number of rows in the data\n",
    "    n_rows = len(data['BSE_System_Parameters']['SEED'])\n",
    "    \n",
    "    # Initialize a NumPy array to hold the data\n",
    "    data_array = np.zeros((n_rows, len(Grid_dict)), dtype=np.float64)\n",
    "        \n",
    "    # Loop over the keys in the Grid_dict dictionary\n",
    "    for i, key in enumerate(Grid_dict.keys()):\n",
    "        \n",
    "        # Get the data from the HDF5 file and store it in the data array\n",
    "        data_key = 'BSE_System_Parameters/' + key\n",
    "        if key == 'SEED':  # Convert the SEED value to an integer\n",
    "            data_array[:, i] = data[data_key][()].astype(int)\n",
    "        else:\n",
    "            data_array[:, i] = data[data_key][()]  \n",
    "    \n",
    "    # Format the data as command line arguments\n",
    "    data_list = []\n",
    "    for i in range(n_rows):\n",
    "        row_data = data_array[i]\n",
    "        row_list = ['{} {:d}'.format(cmd_arg, int(value)) if cmd_arg == '--random-seed' else '{} {}'.format(cmd_arg, value) for cmd_arg, value in zip(Grid_dict.values(), row_data)]\n",
    "        data_line = ' '.join(row_list) + '\\n'\n",
    "        data_list.append(data_line)\n",
    "\n",
    "\n",
    "    # Write the data to the output file\n",
    "    with open('BSE_grid_N1e6.txt', 'w') as outfile:\n",
    "        \n",
    "        # Write the data to the output file\n",
    "        outfile.writelines(data_list)\n"
   ]
  },
  {
   "cell_type": "code",
   "execution_count": null,
   "metadata": {},
   "outputs": [],
   "source": [
    "############################################\n",
    "##  WRITE SEEDS TO GRID RUN FILE\n",
    "############################################\n",
    "def write_BSE_grid(SYS, seed_list, save_loc = './',  BSE_grid_name = \"BSE_grid.txt\"):\n",
    "    \"\"\" Function to write a BSE grid file for your systems of initerest. \n",
    "    SYS       = astropy table version of your SystemParameters\n",
    "    seed_list = the Seeds of interest\n",
    "    \n",
    "    \"\"\"\n",
    "    Grid_keys = ['SEED','Mass@ZAMS(1)', 'Mass@ZAMS(2)', 'SemiMajorAxis@ZAMS','Metallicity@ZAMS(1)',\\\n",
    "            'SN_Kick_Magnitude_Random_Number(1)', 'SN_Kick_Magnitude_Random_Number(2)',\\\n",
    "#            'SN_Kick_Theta(1)', 'SN_Kick_Theta(2)', 'SN_Kick_Phi(1)', 'SN_Kick_Phi(2)',\\\n",
    "#            'SN_Kick_Mean_Anomaly(1)', 'SN_Kick_Mean_Anomaly(2)']\n",
    "                ]\n",
    "    Grid_dict = {'SEED':'--random-seed', 'Mass@ZAMS(1)': '--initial-mass-1', 'Mass@ZAMS(2)':'--initial-mass-2',\\\n",
    "                 'SemiMajorAxis@ZAMS':'--semi-major-axis','Metallicity@ZAMS(1)':'--metallicity',\\\n",
    "            'SN_Kick_Magnitude_Random_Number(1)':'--kick-magnitude-random-1', 'SN_Kick_Magnitude_Random_Number(2)':'--kick-magnitude-random-2',\\\n",
    "#            'SN_Kick_Theta(1)':'--kick-theta-1', 'SN_Kick_Theta(2)':'--kick-theta-2', 'SN_Kick_Phi(1)':'--kick-phi-1', 'SN_Kick_Phi(2)':'--kick-phi-2',\\\n",
    "#            'SN_Kick_Mean_Anomaly(1)':'--kick-mean-anomaly-1', 'SN_Kick_Mean_Anomaly(2)':'--kick-mean-anomaly-2'}\n",
    "                }\n",
    "    ##################################\n",
    "    print('seed_list', seed_list)\n",
    "    SYS_DCO_seeds_bool = np.in1d(SYS['SEED'][()], seed_list) #Bool to point SYS to DCO\n",
    "    ##################################\n",
    "    # Make a reduced table that only consists of your systems of interest\n",
    "    Sub_SYS = SYS[SYS_DCO_seeds_bool]\n",
    "    # Make a new file \n",
    "#     outF = open(save_loc + str(sys['SEED'])+BSE_grid_name , \"w\")\n",
    "    outF = open(save_loc + BSE_grid_name , \"w\")\n",
    "    # Loop over every system in seed_list\n",
    "    for sys in Sub_SYS:\n",
    "        print(save_loc + str(sys['SEED'])+BSE_grid_name)\n",
    "        grid_line = ''\n",
    "        # Append all the necessary keys\n",
    "        for key in Grid_keys:\n",
    "            grid_line += ' '+Grid_dict[key]+' '+str(sys[key])\n",
    "        #print('grid_line',grid_line)\n",
    "        outF.write(grid_line)\n",
    "        outF.write(\"\\n\")\n",
    "    outF.close()\n"
   ]
  }
 ],
 "metadata": {
  "kernelspec": {
   "display_name": "Python 3",
   "language": "python",
   "name": "python3"
  },
  "language_info": {
   "codemirror_mode": {
    "name": "ipython",
    "version": 3
   },
   "file_extension": ".py",
   "mimetype": "text/x-python",
   "name": "python",
   "nbconvert_exporter": "python",
   "pygments_lexer": "ipython3",
   "version": "3.9.15"
  }
 },
 "nbformat": 4,
 "nbformat_minor": 4
}
