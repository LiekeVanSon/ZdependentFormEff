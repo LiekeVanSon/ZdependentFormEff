{
 "cells": [
  {
   "cell_type": "markdown",
   "metadata": {},
   "source": [
    "# how many systems are unbound by SN1 vs SN2 at higher Z? \n",
    "\n",
    "also\n",
    "\n",
    "# What is the core mass of the potential DCO progenitors at different metallicity? \n",
    "\n"
   ]
  },
  {
   "cell_type": "code",
   "execution_count": 1,
   "metadata": {},
   "outputs": [],
   "source": [
    "import numpy as np\n",
    "import os \n",
    "import pandas as pd\n",
    "import h5py as h5\n",
    "import matplotlib.pyplot as plt\n",
    "import colorsys\n",
    "from matplotlib.gridspec import GridSpec\n",
    "\n",
    "\n",
    "home_dir = os.path.expanduser(\"~\") \n",
    "compas_v = \"v03.01.02\"# \"v02.46.01/\"#v02.35.02/\"\n",
    "sim_name =  'NewWinds_RemFryer2012' #'OldWinds_RemFryer2012'#  'NewWinds_RemFryer2012_noNSBHkick'#'OldWinds_RemFryer2012'#  \n",
    "channel_key     = '_stable' #'', '_stable' # '_CE' '_CHE'  '' \n",
    "\n",
    "datar_root = f\"{home_dir}/ceph/CompasOutput/{compas_v}\"\n",
    "\n",
    "######################################\n",
    "## PLOT setttings\n",
    "plt.rc('font', family='serif')\n",
    "from matplotlib import rc\n",
    "import matplotlib\n",
    "matplotlib.rcParams['mathtext.fontset'] = 'stix'\n",
    "matplotlib.rcParams['font.family'] = 'STIXGeneral'\n",
    "fsize, SMALL_SIZE, MEDIUM_SIZE, BIGGER_SIZE = 30,20,25,30\n",
    "for obj in ['axes','xtick','ytick']:\n",
    "    plt.rc(obj, labelsize=SMALL_SIZE)          # controls default text sizes\n",
    "for obj in ['figure','axes']:\n",
    "    plt.rc(obj, titlesize=BIGGER_SIZE)    # fontsize of the tick labels\n",
    "plt.rc('font', size=MEDIUM_SIZE)          # controls default text sizes\n",
    "plt.rc('legend', fontsize=SMALL_SIZE)    # legend fontsize\n",
    "\n",
    "\n",
    "# Turn off natural name warning for panda tables (this is due to '@' and '>' in the COMPAS column names)\n",
    "import warnings\n",
    "from tables import NaturalNameWarning\n",
    "warnings.filterwarnings('ignore', category=NaturalNameWarning)\n",
    "\n",
    "######################################\n",
    "# Helper function to make color darker\n",
    "def darken_color(color, factor=0.8):\n",
    "    r, g, b = (int(color[i:i+2], 16)/255 for i in (1, 3, 5))\n",
    "    h, l, s = colorsys.rgb_to_hls(r, g, b)\n",
    "    return '#%02x%02x%02x' % tuple(int(x*255) for x in colorsys.hls_to_rgb(h, l*factor, s))\n",
    "\n"
   ]
  },
  {
   "cell_type": "code",
   "execution_count": 2,
   "metadata": {},
   "outputs": [
    {
     "name": "stdout",
     "output_type": "stream",
     "text": [
      "<class 'pandas.core.frame.DataFrame'>\n",
      "Int64Index: 560052 entries, 0 to 560051\n",
      "Columns: 111 entries, SEED to SN_star2_Orb_Velocity<SN\n",
      "dtypes: float64(98), int32(2), object(3), uint32(1), uint64(1), uint8(6)\n",
      "memory usage: 449.7+ MB\n",
      "Table exists, reading in...  None\n"
     ]
    }
   ],
   "source": [
    "####################################\n",
    "# Take the base potential DCO progenitor table\n",
    "prog_table_name = f'potential_DCO_progenitors_Allinfo{channel_key}.h5'\n",
    "\n",
    "if os.path.isfile(datar_root+ f'/{sim_name}/'+prog_table_name):\n",
    "    potential_DCO_progenitors = pd.read_hdf(f'{datar_root}/{sim_name}/' + prog_table_name, key='All_DCO')\n",
    "    print('Table exists, reading in... ',  potential_DCO_progenitors.info())\n",
    "else:\n",
    "    print(f'error, {datar_root}/{sim_name}/{prog_table_name} does not exist, you should make it using \"DataManipulation.ipynb\" first')\n",
    "\n",
    "potential_DCO_progenitors.reset_index(drop=True, inplace=True)\n",
    "    \n",
    "\n",
    "### Split your table between merging BBH/BHNS/NSNS\n",
    "\n",
    "with h5.File(f'{datar_root}/{sim_name}/COMPAS_Output_combinedZ.h5', 'r') as All_data:\n",
    "    DCO = All_data['BSE_Double_Compact_Objects']\n",
    "    st1 = DCO['Stellar_Type(1)'][()]\n",
    "    st2 = DCO['Stellar_Type(2)'][()]\n",
    "    dco_merger = DCO['Merges_Hubble_Time'][()]  \n",
    "    DCO_seed = DCO['SEED'][()]\n",
    "    # Now I want to add a bool that tells me if this system is ever a BBH, BHNS or BNS progenitor\n",
    "    BBH_bool = np.logical_and(st1 == 14,st2 == 14)\n",
    "    BHNS_bool = np.logical_or(np.logical_and(st1 == 13,st2 == 14),\n",
    "                            np.logical_and(st1 == 14,st2 == 13) )\n",
    "    NSNS_bool = np.logical_and(st1 == 13,st2 == 13)\n",
    "    merger_bool = dco_merger == 1\n",
    "\n",
    "    # Split our potential DCO progenitors into BBH, BHNS and NSNS progenitors\n",
    "    potential_BBH_progenitors  = potential_DCO_progenitors[np.in1d(potential_DCO_progenitors['SEED'], np.unique(DCO_seed[BBH_bool*merger_bool]) )]\n",
    "    potential_BHNS_progenitors = potential_DCO_progenitors[np.in1d(potential_DCO_progenitors['SEED'], np.unique(DCO_seed[BHNS_bool*merger_bool]) )]\n",
    "    potential_NSNS_progenitors = potential_DCO_progenitors[np.in1d(potential_DCO_progenitors['SEED'], np.unique(DCO_seed[NSNS_bool*merger_bool]) )]\n"
   ]
  },
  {
   "cell_type": "markdown",
   "metadata": {},
   "source": [
    "## Plot the number of SN1 unbound per Z"
   ]
  },
  {
   "cell_type": "code",
   "execution_count": null,
   "metadata": {},
   "outputs": [
    {
     "name": "stdout",
     "output_type": "stream",
     "text": [
      "metallicities [0.0001     0.00017321 0.0003     0.00054772 0.001      0.002\n",
      " 0.004      0.00632456 0.01       0.01414214 0.02       0.03      ]\n"
     ]
    }
   ],
   "source": [
    "metallicities = np.unique(potential_DCO_progenitors['Metallicity@ZAMS(1)'])\n",
    "print('metallicities', metallicities)   \n",
    "Z_Zsun = np.log10(np.array(metallicities)/0.014)\n"
   ]
  }
 ],
 "metadata": {
  "kernelspec": {
   "display_name": "Jupyter_venv",
   "language": "python",
   "name": "python3"
  },
  "language_info": {
   "codemirror_mode": {
    "name": "ipython",
    "version": 3
   },
   "file_extension": ".py",
   "mimetype": "text/x-python",
   "name": "python",
   "nbconvert_exporter": "python",
   "pygments_lexer": "ipython3",
   "version": "3.9.15"
  }
 },
 "nbformat": 4,
 "nbformat_minor": 2
}
